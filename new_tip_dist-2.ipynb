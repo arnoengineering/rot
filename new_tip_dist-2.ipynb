{
 "cells": [
  {
   "cell_type": "code",
   "execution_count": 1,
   "metadata": {
    "collapsed": false,
    "pycharm": {
     "name": "#%%\n"
    }
   },
   "outputs": [],
   "source": [
    "import numpy as np\n",
    "from matplotlib import pyplot as plt\n",
    "\n",
    "from IPython.display import display, Latex\n"
   ]
  },
  {
   "cell_type": "markdown",
   "source": [
    "defining singularity helperfunction"
   ],
   "metadata": {
    "collapsed": false,
    "pycharm": {
     "name": "#%% md\n"
    }
   }
  },
  {
   "cell_type": "code",
   "execution_count": 2,
   "metadata": {
    "collapsed": false,
    "pycharm": {
     "name": "#%%\n"
    }
   },
   "outputs": [],
   "source": [
    "# sigularities\n",
    "def sing(x,a,n):\n",
    "    if not isinstance(x, np.ndarray):\n",
    "        x = np.array([x])\n",
    "    ni = np.zeros(x.size)\n",
    "    for i in range(x.size):\n",
    "        if x[i] >=a and n>=0:\n",
    "            ni[i] = (x[i]-a)**n\n",
    "    return ni/np.math.factorial(n)"
   ]
  },
  {
   "cell_type": "markdown",
   "source": [
    "singulartiy full funcs"
   ],
   "metadata": {
    "collapsed": false,
    "pycharm": {
     "name": "#%% md\n"
    }
   }
  },
  {
   "cell_type": "code",
   "execution_count": 3,
   "metadata": {
    "collapsed": false,
    "pycharm": {
     "name": "#%%\n"
    }
   },
   "outputs": [],
   "source": [
    "def lx(ord_f,pc, tire_l, case,p1,p2):\n",
    "    react_f = GVWR*((1-pc)*sing(dx,0,ord_f)+pc/2*(sing(dx,lw1,ord_f)+sing(dx, lw2, ord_f)))\n",
    "    other_f = p1*sing(dx,a2,ord_f)+p2*sing(dx,lc,ord_f)+W_tip/base_len*(sing(dx,0, ord_f+1)-sing(dx,base_len, ord_f+1))\n",
    "    if case == 1:\n",
    "        return react_f - other_f - Rc*sing(dx, tire_l, ord_f)\n",
    "    else:\n",
    "        return react_f - other_f\n",
    "    \n",
    "def rot_axle(ord_f, p2):\n",
    "    return p2/2*(sing(pin_x,0,ord_f)-sing(pin_x,tip_offset,ord_f)-sing(pin_x,tip_offset+tip_w,ord_f)+sing(pin_x,2*tip_offset+tip_w,ord_f))"
   ]
  },
  {
   "cell_type": "code",
   "execution_count": 4,
   "metadata": {
    "collapsed": false,
    "pycharm": {
     "name": "#%%\n"
    }
   },
   "outputs": [],
   "source": [
    "def pp(tire_l,load_fac,ab):\n",
    "    react_f = Rc*((tire_l-ab)*load_fac+wheel_base)+W_tip*(G_tip-ab)\n",
    "    p2 = react_f/(lc-ab)\n",
    "    p1 = load_fac * Rc + W_tip - p2\n",
    "    # print(f'p1<0: {ab==a1}, p1:{p1}')\n",
    "    return p1,p2"
   ]
  },
  {
   "cell_type": "code",
   "execution_count": 5,
   "metadata": {
    "collapsed": false,
    "pycharm": {
     "name": "#%%\n"
    }
   },
   "outputs": [],
   "source": [
    "def trail(ord_f,tire_len, case,p1,p2):\n",
    "    react_f = p1*sing(dx,a2,ord_f)+p2*sing(dx,lc,ord_f)-W_tip/tip_len*(sing(dx,a1, ord_f+1)-sing(dx,a1+tip_len, ord_f+1))#todo sigularity(a), mom = @sig(a,1,2)\n",
    "    if case == 1:\n",
    "        rc_f = Rc*sing(dx,tire_len,ord_f)\n",
    "    else:\n",
    "        rc_f = Rc*(sing(dx,tire_len+wheel_base,ord_f)+sing(dx,tire_len,ord_f))\n",
    "    return react_f - rc_f"
   ]
  },
  {
   "cell_type": "code",
   "execution_count": 6,
   "metadata": {
    "collapsed": false,
    "pycharm": {
     "name": "#%%\n"
    }
   },
   "outputs": [],
   "source": [
    "def plot_trail(pl,l):\n",
    "\n",
    "    lims = pl.axis()\n",
    "    dy = lims[3]-lims[2]\n",
    "    dx = lims[1]-lims[0]\n",
    "    sca = dy/dx\n",
    "\n",
    "    points = np.array([[0, base_len, base_len,base_len-6,base_len-12,base_len-36,base_len-48,a0,a0,0,0],\n",
    "              [0,0,8,8,12,12,8,8,6,6,0]])\n",
    "    \n",
    "    points_2 = np.array([[-6,6,6,-6,-6],\n",
    "               [0,0,2,2,0]])\n",
    "    \n",
    "    points_2[0] += a2\n",
    "\n",
    "    dash_p = np.array([[a0,a0],[0,8]])\n",
    "    tip_p = np.array([[a1,lf,lf-6,a1,a1],\n",
    "            [8,8,2,2,8]])\n",
    "    \n",
    "    for i in [points,points_2,dash_p,tip_p]:\n",
    "         i[1] = sca*i[1]\n",
    "\n",
    "    pl.plot(*points,'c', label='Base (Reference)')\n",
    "    pl.plot(*points_2,'c')\n",
    "    pl.plot(*dash_p, 'c--')\n",
    "    pl.plot(*tip_p,'y', label='Tip Deck (Refernce)')\n",
    "    plot_wheels(pl,sca,l)"
   ]
  },
  {
   "cell_type": "code",
   "execution_count": 7,
   "metadata": {
    "collapsed": false,
    "pycharm": {
     "name": "#%%\n"
    }
   },
   "outputs": [],
   "source": [
    "def plot_wheels(pl,sca,l):\n",
    "    wheel_loc = [lw1,lw2]\n",
    "    wheel_loc2 = [l,l+48]\n",
    "\n",
    "    r = np.array([12,8])\n",
    "    t = np.linspace(0, 2*np.pi, 100)\n",
    "    for i in wheel_loc:\n",
    "        pl.plot(i+r[0]*np.cos(t),(-0.5+np.sin(t))*r[0]*sca,'c')\n",
    "\n",
    "    pl.plot(wheel_loc2[0]+r[1]*np.cos(t),(8+r[1]+r[1]*np.sin(t))*sca,'m', label='Bobcat Wheels (load locations)')\n",
    "    pl.plot(wheel_loc2[1]+r[1]*np.cos(t),(8+r[1]+r[1]*np.sin(t))*sca,'m')"
   ]
  },
  {
   "cell_type": "code",
   "execution_count": 8,
   "metadata": {
    "collapsed": false,
    "pycharm": {
     "name": "#%%\n"
    }
   },
   "outputs": [],
   "source": [
    "def plot_x(react_mat,react_mattip,max_p, f_arr,p2_arr):\n",
    "    # SFD BMD, \\u03C3 vs distance for each condition of len,percent\n",
    "    \n",
    "    lft = [react_mat,react_mattip]\n",
    "    plt_n = ['main', 'tip', 'rot axle']\n",
    "    dic_fi = {'fact': [0, -2, -1], 'col':'bgr','lab': ['V','M', '\\u03C3'],'unit': ['lb)','lb*in)','psi)']}\n",
    "              \n",
    "    for ii in range(len(react_mat)):\n",
    "        fig, ax = plt.subplots(1,3)\n",
    "        for i in range(3):\n",
    "            ax[i].grid(True)\n",
    "            if i == 2:\n",
    "                m_half = p2_arr[ii]\n",
    "                dyx = pin_x\n",
    "                dic_fi['fact']= [0, 0, 0]\n",
    "                beam_n = 'rotating axle'\n",
    "            else:\n",
    "                beam_n = 'trailer'\n",
    "                m_half = lft[i][ii]\n",
    "                dyx = dx\n",
    "                dic_fi['fact']= [0, -2, -1]\n",
    "            \n",
    "            for iii in range(3):\n",
    "                fa = dic_fi['fact'][iii]\n",
    "                if fa == 0:\n",
    "                    la = f'{dic_fi[\"lab\"][iii]} ({dic_fi[\"unit\"][iii]}'\n",
    "                else:\n",
    "                    ds = 10**-fa\n",
    "                    la = f'{dic_fi[\"lab\"][iii]} ({ds}*{dic_fi[\"unit\"][iii]}'\n",
    "                ax[i].plot(dyx,m_half[iii]*10**fa, dic_fi['col'][iii],label=la)\n",
    "            if i!=2:\n",
    "                plot_trail(ax[i],f_arr[ii])\n",
    "            ax[i].legend()\n",
    "            ax[i].set_title(f'SFD BMD, \\u03C3 allong {beam_n}(in) for current loading on {plt_n[i]}')\n",
    "        fig.suptitle(f'Plots for L= {round(f_arr[ii],2)}(in) rear Load:{int(max_p[ii,0]*100)}%')"
   ]
  },
  {
   "cell_type": "code",
   "execution_count": 9,
   "metadata": {
    "collapsed": false,
    "pycharm": {
     "name": "#%%\n"
    }
   },
   "outputs": [],
   "source": [
    "def plot_rot(p2):\n",
    "    \n",
    "    pin_a = pin_d**2/4*np.pi\n",
    "    pin_s = pin_a*pin_d/8\n",
    "    \n",
    "    shear = rot_axle(0, p2)\n",
    "    mom = rot_axle(1, p2)\n",
    "    sig_p = mom/pin_s\n",
    "    mat_x = [shear, mom, sig_p]\n",
    "    max_sig = np.max(np.abs(sig_p))\n",
    "    return max_sig, mat_x\n"
   ]
  },
  {
   "cell_type": "code",
   "execution_count": 10,
   "metadata": {
    "collapsed": false,
    "pycharm": {
     "name": "#%%\n"
    }
   },
   "outputs": [],
   "source": [
    "def run_f(perc=None):\n",
    "    max_p = [[0,0]]\n",
    "    react_mat = []\n",
    "    p2_m = []\n",
    "    p2_m_max = [[0,0]]\n",
    "    display(Latex(f'Conststants: \\n$R={GVWR}\\na_1={a1}, a_2={a2}\\nL_c={lc}, L_{{w,1}}= {lw1}, L_{{w,2}} = {lw2}, $'))\n",
    "\n",
    "    max_ptip = [[0,0]]\n",
    "    react_mattip = []\n",
    "    # loop through locations\n",
    "    #const\n",
    "    const_v = Rc*wheel_base+W_tip*(G_tip+G_base)\n",
    "    const_react = GVWR*(lw1+lw2)/2\n",
    "    if perc:\n",
    "        f_arr = [perc]\n",
    "    else:\n",
    "        f_arr = cat_tire_l_arr\n",
    "    for par_v in f_arr:\n",
    "        if perc:\n",
    "            p = par_v\n",
    "            cat_tire_l = (const_react*p-const_v)/(2*Rc)\n",
    "        else:\n",
    "            cat_tire_l = par_v\n",
    "            p = (2*Rc*cat_tire_l+const_v)/const_react\n",
    "        ab = a2\n",
    "        if cat_tire_l < a1:\n",
    "            case = 1\n",
    "\n",
    "        else:\n",
    "            case = 2\n",
    "        if cat_tire_l > lc+(lc-G_tip)*W_tip/(Rc*case)-48/case:\n",
    "            ab = a1\n",
    "\n",
    "        # initialize constants for each\n",
    "\n",
    "        p1,p2 = pp(cat_tire_l,case,ab)\n",
    "        r1 = round((1-p)*GVWR,1)\n",
    "        r2 = round(p*GVWR,1)\n",
    "        \n",
    "        #singularity\n",
    "        display(Latex(f'$\\\\text{{Equation solution: }} R_1={r1},R_2={r2}, p_1={round(p1,1)}, p_2={round(p2,1)}$'))\n",
    "        load = lx(0,p,cat_tire_l,case,p1,p2)\n",
    "        mom = lx(1,p,cat_tire_l,case, p1,p2)\n",
    "\n",
    "        tip_l = trail(0,cat_tire_l,case,p1,p2)\n",
    "        tip_m = trail(1, cat_tire_l,case,p1,p2)\n",
    "        #, v: {}, m:{}')\n",
    "        sig = mom/(rail_cnt*shear_mod)  # stress\n",
    "        sigtip = tip_m/(rail_cnt2*shear_mod)\n",
    "\n",
    "        react_mat.append([load, mom, sig])\n",
    "        max_sig = np.max(np.abs(sig))\n",
    "\n",
    "        max_p.append([p*1, max_sig*1])  # max stress for this loading condition and this location\n",
    "\n",
    "        react_mattip.append([tip_l, tip_m, sigtip])\n",
    "        max_sigtip = np.max(np.abs(sigtip))\n",
    "\n",
    "        max_ptip.append([p*1, max_sigtip*1])  # max stress for this loading condition and this location\n",
    "        \n",
    "        m_pin_x, m_pin_m = plot_rot(p2)\n",
    "        p2_m_max.append([p*1,m_pin_x])\n",
    "        p2_m.append(m_pin_m)\n",
    "\n",
    "    # tabulation of this location, and max of location\n",
    "    max_p = np.array(max_p)\n",
    "    m_n = np.argmax(max_p,0)\n",
    "    m_a = max_p[m_n[1],:]\n",
    "\n",
    "    # adding to list of all locs\n",
    "\n",
    "    # tabulation of this location, and max of location\n",
    "    max_ptip = np.array(max_ptip)\n",
    "    m_ntip = np.argmax(max_ptip,0)\n",
    "    m_atip = max_ptip[m_ntip[1],:]\n",
    "    \n",
    "    p2_m_max = np.array(p2_m_max)\n",
    "    m_np2 = np.argmax(max_ptip,0)\n",
    "    m_ap2 = max_ptip[m_np2[1],:]\n",
    "    \n",
    "    print_conditions(max_p,f_arr, m_n,m_a, max_ptip,m_ntip,m_atip, p2_m_max,m_np2,m_ap2)\n",
    "    \n",
    "    return react_mat,react_mattip,max_p, f_arr,p2_m"
   ]
  },
  {
   "cell_type": "code",
   "execution_count": 11,
   "metadata": {
    "collapsed": false,
    "pycharm": {
     "name": "#%%\n"
    }
   },
   "outputs": [],
   "source": [
    "def print_conditions(max_p,f_arr,m_n,m_a,max_ptip,m_ntip,m_atip, p2_m_max,m_np2,m_ap2):\n",
    "    # print(full r)\n",
    "    def prt_1(ma):\n",
    "        for i in range(ma.shape[0]-1):\n",
    "            fis = ma[i+1,1]\n",
    "            fs2 = '\\dashv \\\\vdash' if fis>= yield_s else ''\n",
    "            # st3 = '\\Rightarrow'\n",
    "            display(Latex(f'$L= {round(f_arr[i],1)}(in), x_{{wheel}}={int(ma[i+1,0]*100)} \\%, \\sigma_{{max}}={round(fis,2)}(psi) \\Rightarrow {round(fis/1000,1)}(ksi){fs2}$'))\n",
    "            \n",
    "    def prt_2(mn,ma):\n",
    "        print(f'\\n----------')\n",
    "        display(Latex(f'$\\sigma_{{Max,Overall}}:: L={round(f_arr[mn[1]-1], 2)}(in), R_2={int(ma[0]*100)}%,  \\sigma = {round(ma[1], 2)}(psi)$'))\n",
    "\n",
    "    display(Latex(f'NOTE: $\\dashv \\\\vdash \\\\text{{means failure at }} \\sigma_y={round(yield_s/1000,1)}$'))\n",
    "\n",
    "    # max for each percent, len\n",
    "   \n",
    "    prt_1(max_p)\n",
    "    prt_2(m_n,m_a)\n",
    "    # max for each percent, len\n",
    "    print(f'\\n\\n--------------------\\ntrailer\\n--------------------\\n')\n",
    "    \n",
    "    prt_1(max_ptip)\n",
    "\n",
    "    prt_2(m_ntip,m_atip)\n",
    "    print(f'\\n\\n--------------------\\nrot\\n--------------------\\n')\n",
    "    prt_1(p2_m_max)\n",
    "\n",
    "    prt_2(m_np2,m_ap2)"
   ]
  },
  {
   "cell_type": "markdown",
   "source": [
    "test 1 using\n",
    "#constants"
   ],
   "metadata": {
    "collapsed": false,
    "pycharm": {
     "name": "#%% md\n"
    }
   }
  },
  {
   "cell_type": "markdown",
   "source": [
    "constant values as follows\n",
    "-yeild_s=$\\sigma_y$\n",
    "-shear_mod = $S_{base}$\n",
    "-shear_mod_tip=$S_{tip}$\n",
    "-W_tip = $W_{tip}$: weight of tip\n",
    "\n",
    "Note: $S_x=\\frac{My}{I_x}$"
   ],
   "metadata": {
    "collapsed": false,
    "pycharm": {
     "name": "#%% md\n"
    }
   }
  },
  {
   "cell_type": "code",
   "execution_count": null,
   "outputs": [],
   "source": [
    "yield_s = 50000\n",
    "shear_mod = 5.61\n",
    "shear_mod_tip=5.49\n",
    "GVWR = 16000\n",
    "W_tip = 1800 # tare/2"
   ],
   "metadata": {
    "collapsed": false,
    "pycharm": {
     "name": "#%%\n"
    }
   }
  },
  {
   "cell_type": "markdown",
   "source": [
    "number of certain items\n",
    "-rail_cnt=copunt of rails allong trailer base\n",
    "-rail_cnt2=copunt of rails allong trailer tip"
   ],
   "metadata": {
    "collapsed": false,
    "pycharm": {
     "name": "#%% md\n"
    }
   }
  },
  {
   "cell_type": "code",
   "execution_count": null,
   "outputs": [],
   "source": [
    "rail_cnt = 2\n",
    "rail_cnt2 = 2"
   ],
   "metadata": {
    "collapsed": false,
    "pycharm": {
     "name": "#%%\n"
    }
   }
  },
  {
   "cell_type": "markdown",
   "source": [
    "lengths\n",
    "-lc=$L_c$:center of pivot\n",
    "-a1 =$a_1$: start of tip\n",
    "-a2 =$a_2$: tipdeck resting\n",
    "-a0=$a_0$: start of main deck wheel cant be closer\n",
    "-tip_len: len of tipdeck\n",
    "-base_len: len of base until it ends\n",
    "-lw1=$Lw_1$: len of closest wheel\n",
    "-lw2=$Lw_2$: len of furthest wheel\n"
   ],
   "metadata": {
    "collapsed": false,
    "pycharm": {
     "name": "#%% md\n"
    }
   }
  },
  {
   "cell_type": "code",
   "execution_count": null,
   "outputs": [],
   "source": [
    "lc = 197\n",
    "a1 = 104\n",
    "a0 = 56\n",
    "tip_len = 194\n",
    "base_len = 220\n",
    "lw1 = 173\n",
    "lw2 = 206\n"
   ],
   "metadata": {
    "collapsed": false,
    "pycharm": {
     "name": "#%%\n"
    }
   }
  },
  {
   "cell_type": "markdown",
   "source": [
    "calculated values\n",
    "\n",
    "assuming that items act as point loads at their wheels and objects have genter of mass at center\n",
    "-G_base==$G_{base}=\\frac{L_{base}}{2}$:center of mass base\n",
    "-G_base==$G_{tip}=\\frac{L_{tip}}{2}+a_1$:center of mass tip\n",
    "-lf==$L_F=a_1+L_{tip}$:Overall len\n",
    "-pin_d =$P_{off}$: dist from piv bloc base to piv block side\n",
    "-wheel_base=$\\Delta L_{bob}$:wheel base of bobcat\n",
    "\n",
    "\n",
    "### running calculations\n",
    "assuming even weight $W_B=W_T= \\frac{tare}{2}$\n",
    "Let $R=GVWR \\therefore R_c = \\frac{R}{2}-W_B$\n",
    "\n",
    "-CASE: $L<a_1$\n",
    "    -$\\Sigma F_{B}:Redundant$\n",
    "    -$\\Sigma F_{T}: R_c+W_b = P_1+P_2$\n",
    "    -$\\Sigma M_{B}: P_1 a_2 +W_B G_B - \\frac{Rx}{2}(Lw_1+Lw_2)+R_cL+P_2 L_c=0$\n",
    "    -$\\Sigma M_{T}: R_c(L+48-a_2)+W_B(G_T-a_2)-P_2(L_c- a_2)=0$\n",
    "-CASE: $L>a_1$"
   ],
   "metadata": {
    "collapsed": false,
    "pycharm": {
     "name": "#%% md\n"
    }
   }
  },
  {
   "cell_type": "code",
   "execution_count": null,
   "outputs": [],
   "source": [
    "\n",
    "Rc = GVWR/2 - W_tip\n",
    "lf = a1+tip_len\n",
    "\n",
    "G_base = base_len / 2\n",
    "G_tip = tip_len / 2 + a1\n",
    "\n",
    "a2 = a1 + 19\n",
    "\n",
    "tip_offset = 1\n",
    "\n",
    "tip_w = 78\n",
    "pin_d = 2\n",
    "\n",
    "wheel_base = 48\n",
    "len_full = 300"
   ],
   "metadata": {
    "collapsed": false,
    "pycharm": {
     "name": "#%%\n"
    }
   }
  },
  {
   "cell_type": "markdown",
   "source": [
    "now we can run the arrays"
   ],
   "metadata": {
    "collapsed": false,
    "pycharm": {
     "name": "#%% md\n"
    }
   }
  },
  {
   "cell_type": "code",
   "execution_count": null,
   "outputs": [],
   "source": [
    "\n",
    "# predefined arrays\n",
    "dx = np.linspace(-1,len_full, 200)\n",
    "cat_tire_l_arr = np.arange(60,len_full-50,10)\n",
    "\n",
    "pin_x = np.linspace(-1,tip_w+2*tip_offset, 200)\n",
    "\n",
    "react_mat1,react_mattip1,mp,fa,parr = run_f()\n",
    "plot_x(react_mat1,react_mattip1,mp,fa,parr)"
   ],
   "metadata": {
    "collapsed": false,
    "pycharm": {
     "name": "#%%\n"
    }
   }
  }
 ],
 "metadata": {
  "kernelspec": {
   "name": "conda-root-py",
   "language": "python",
   "display_name": "Python [conda env:root]"
  },
  "language_info": {
   "codemirror_mode": {
    "name": "ipython",
    "version": 3
   },
   "file_extension": ".py",
   "mimetype": "text/x-python",
   "name": "python",
   "nbconvert_exporter": "python",
   "pygments_lexer": "ipython3",
   "version": "3.8.10"
  }
 },
 "nbformat": 4,
 "nbformat_minor": 4
}